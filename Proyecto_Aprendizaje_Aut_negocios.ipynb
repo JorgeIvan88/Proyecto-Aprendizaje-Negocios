{
 "cells": [
  {
   "cell_type": "markdown",
   "metadata": {},
   "source": [
    "# ¡Hola, Jorge!  \n",
    "\n",
    "Mi nombre es Carlos Ortiz, soy code reviewer de TripleTen y voy a revisar el proyecto que acabas de desarrollar.\n",
    "\n",
    "Cuando vea un error la primera vez, lo señalaré. Deberás encontrarlo y arreglarlo. La intención es que te prepares para un espacio real de trabajo. En un trabajo, el líder de tu equipo hará lo mismo. Si no puedes solucionar el error, te daré más información en la próxima ocasión. \n",
    "\n",
    "Encontrarás mis comentarios más abajo - **por favor, no los muevas, no los modifiques ni los borres**.\n",
    "\n",
    "¿Cómo lo voy a hacer? Voy a leer detenidamente cada una de las implementaciones que has llevado a cabo para cumplir con lo solicitado. Verás los comentarios de esta forma:\n",
    "\n",
    "<div class=\"alert alert-block alert-success\">\n",
    "<b>Comentario del revisor</b> <a class=\"tocSkip\"></a>\n",
    "    \n",
    "Si todo está perfecto.\n",
    "</div>\n",
    "\n",
    "\n",
    "<div class=\"alert alert-block alert-warning\">\n",
    "<b>Comentario del revisor</b> <a class=\"tocSkip\"></a>\n",
    "    \n",
    "Si tu código está bien pero se puede mejorar o hay algún detalle que le hace falta.\n",
    "</div>\n",
    "\n",
    "\n",
    "<div class=\"alert alert-block alert-danger\">\n",
    "    \n",
    "<b>Comentario del revisor</b> <a class=\"tocSkip\"></a>\n",
    "    \n",
    "    \n",
    "Si de pronto hace falta algo o existe algún problema con tu código o conclusiones.\n",
    "</div>\n",
    "\n",
    "\n",
    "Puedes responderme de esta forma: \n",
    "\n",
    "\n",
    "<div class=\"alert alert-block alert-info\">\n",
    "<b>Respuesta del estudiante</b> <a class=\"tocSkip\"></a>\n",
    "</div>\n",
    "¡Empecemos!"
   ]
  },
  {
   "cell_type": "markdown",
   "metadata": {},
   "source": [
    "# PROYECTO SPRINT 9: APRENDIZAJE AUTOMATICO EN NEGOCIOS"
   ]
  },
  {
   "cell_type": "markdown",
   "metadata": {},
   "source": [
    "## Descargar y preparar los datos."
   ]
  },
  {
   "cell_type": "code",
   "execution_count": 1,
   "metadata": {},
   "outputs": [],
   "source": [
    "# Inicialización \n",
    "import pandas as pd\n",
    "import numpy as np\n",
    "from scipy import stats\n",
    "import matplotlib.pyplot as plt\n",
    "from sklearn.model_selection import train_test_split\n",
    "from sklearn.preprocessing import StandardScaler\n",
    "from sklearn.linear_model import LinearRegression\n",
    "from sklearn.metrics import mean_squared_error\n",
    "from sklearn.metrics import r2_score\n",
    "from sklearn.metrics import mean_absolute_error\n"
   ]
  },
  {
   "cell_type": "code",
   "execution_count": 2,
   "metadata": {},
   "outputs": [],
   "source": [
    "# Cargar los archivos de datos\n",
    "df1 = pd.read_csv('/datasets/geo_data_0.csv')\n",
    "df2 = pd.read_csv('/datasets/geo_data_1.csv')\n",
    "df3 = pd.read_csv('/datasets/geo_data_2.csv')"
   ]
  },
  {
   "cell_type": "markdown",
   "metadata": {},
   "source": [
    "<div class=\"alert alert-block alert-success\">\n",
    "<b>Comentario del revisor</b> <a class=\"tocSkip\"></a>\n",
    "    \n",
    "Buen trabajo con la importación de datos y de librerías.\n",
    "</div>"
   ]
  },
  {
   "cell_type": "code",
   "execution_count": 3,
   "metadata": {
    "scrolled": false
   },
   "outputs": [
    {
     "name": "stdout",
     "output_type": "stream",
     "text": [
      "<class 'pandas.core.frame.DataFrame'>\n",
      "RangeIndex: 100000 entries, 0 to 99999\n",
      "Data columns (total 5 columns):\n",
      " #   Column   Non-Null Count   Dtype  \n",
      "---  ------   --------------   -----  \n",
      " 0   id       100000 non-null  object \n",
      " 1   f0       100000 non-null  float64\n",
      " 2   f1       100000 non-null  float64\n",
      " 3   f2       100000 non-null  float64\n",
      " 4   product  100000 non-null  float64\n",
      "dtypes: float64(4), object(1)\n",
      "memory usage: 3.8+ MB\n"
     ]
    }
   ],
   "source": [
    "# Imprimir la información general/resumida sobre df1\n",
    "df1.info()"
   ]
  },
  {
   "cell_type": "code",
   "execution_count": 4,
   "metadata": {},
   "outputs": [
    {
     "data": {
      "text/html": [
       "<div>\n",
       "<style scoped>\n",
       "    .dataframe tbody tr th:only-of-type {\n",
       "        vertical-align: middle;\n",
       "    }\n",
       "\n",
       "    .dataframe tbody tr th {\n",
       "        vertical-align: top;\n",
       "    }\n",
       "\n",
       "    .dataframe thead th {\n",
       "        text-align: right;\n",
       "    }\n",
       "</style>\n",
       "<table border=\"1\" class=\"dataframe\">\n",
       "  <thead>\n",
       "    <tr style=\"text-align: right;\">\n",
       "      <th></th>\n",
       "      <th>id</th>\n",
       "      <th>f0</th>\n",
       "      <th>f1</th>\n",
       "      <th>f2</th>\n",
       "      <th>product</th>\n",
       "    </tr>\n",
       "  </thead>\n",
       "  <tbody>\n",
       "    <tr>\n",
       "      <th>0</th>\n",
       "      <td>txEyH</td>\n",
       "      <td>0.705745</td>\n",
       "      <td>-0.497823</td>\n",
       "      <td>1.221170</td>\n",
       "      <td>105.280062</td>\n",
       "    </tr>\n",
       "    <tr>\n",
       "      <th>1</th>\n",
       "      <td>2acmU</td>\n",
       "      <td>1.334711</td>\n",
       "      <td>-0.340164</td>\n",
       "      <td>4.365080</td>\n",
       "      <td>73.037750</td>\n",
       "    </tr>\n",
       "    <tr>\n",
       "      <th>2</th>\n",
       "      <td>409Wp</td>\n",
       "      <td>1.022732</td>\n",
       "      <td>0.151990</td>\n",
       "      <td>1.419926</td>\n",
       "      <td>85.265647</td>\n",
       "    </tr>\n",
       "    <tr>\n",
       "      <th>3</th>\n",
       "      <td>iJLyR</td>\n",
       "      <td>-0.032172</td>\n",
       "      <td>0.139033</td>\n",
       "      <td>2.978566</td>\n",
       "      <td>168.620776</td>\n",
       "    </tr>\n",
       "    <tr>\n",
       "      <th>4</th>\n",
       "      <td>Xdl7t</td>\n",
       "      <td>1.988431</td>\n",
       "      <td>0.155413</td>\n",
       "      <td>4.751769</td>\n",
       "      <td>154.036647</td>\n",
       "    </tr>\n",
       "  </tbody>\n",
       "</table>\n",
       "</div>"
      ],
      "text/plain": [
       "      id        f0        f1        f2     product\n",
       "0  txEyH  0.705745 -0.497823  1.221170  105.280062\n",
       "1  2acmU  1.334711 -0.340164  4.365080   73.037750\n",
       "2  409Wp  1.022732  0.151990  1.419926   85.265647\n",
       "3  iJLyR -0.032172  0.139033  2.978566  168.620776\n",
       "4  Xdl7t  1.988431  0.155413  4.751769  154.036647"
      ]
     },
     "execution_count": 4,
     "metadata": {},
     "output_type": "execute_result"
    }
   ],
   "source": [
    "# Imprimir una muestra de los datos de df1\n",
    "df1.head()"
   ]
  },
  {
   "cell_type": "code",
   "execution_count": 5,
   "metadata": {},
   "outputs": [
    {
     "name": "stdout",
     "output_type": "stream",
     "text": [
      "<class 'pandas.core.frame.DataFrame'>\n",
      "RangeIndex: 100000 entries, 0 to 99999\n",
      "Data columns (total 5 columns):\n",
      " #   Column   Non-Null Count   Dtype  \n",
      "---  ------   --------------   -----  \n",
      " 0   id       100000 non-null  object \n",
      " 1   f0       100000 non-null  float64\n",
      " 2   f1       100000 non-null  float64\n",
      " 3   f2       100000 non-null  float64\n",
      " 4   product  100000 non-null  float64\n",
      "dtypes: float64(4), object(1)\n",
      "memory usage: 3.8+ MB\n"
     ]
    }
   ],
   "source": [
    "# Imprimir la información general/resumida sobre df2\n",
    "df2.info()"
   ]
  },
  {
   "cell_type": "code",
   "execution_count": 6,
   "metadata": {},
   "outputs": [
    {
     "data": {
      "text/html": [
       "<div>\n",
       "<style scoped>\n",
       "    .dataframe tbody tr th:only-of-type {\n",
       "        vertical-align: middle;\n",
       "    }\n",
       "\n",
       "    .dataframe tbody tr th {\n",
       "        vertical-align: top;\n",
       "    }\n",
       "\n",
       "    .dataframe thead th {\n",
       "        text-align: right;\n",
       "    }\n",
       "</style>\n",
       "<table border=\"1\" class=\"dataframe\">\n",
       "  <thead>\n",
       "    <tr style=\"text-align: right;\">\n",
       "      <th></th>\n",
       "      <th>id</th>\n",
       "      <th>f0</th>\n",
       "      <th>f1</th>\n",
       "      <th>f2</th>\n",
       "      <th>product</th>\n",
       "    </tr>\n",
       "  </thead>\n",
       "  <tbody>\n",
       "    <tr>\n",
       "      <th>0</th>\n",
       "      <td>kBEdx</td>\n",
       "      <td>-15.001348</td>\n",
       "      <td>-8.276000</td>\n",
       "      <td>-0.005876</td>\n",
       "      <td>3.179103</td>\n",
       "    </tr>\n",
       "    <tr>\n",
       "      <th>1</th>\n",
       "      <td>62mP7</td>\n",
       "      <td>14.272088</td>\n",
       "      <td>-3.475083</td>\n",
       "      <td>0.999183</td>\n",
       "      <td>26.953261</td>\n",
       "    </tr>\n",
       "    <tr>\n",
       "      <th>2</th>\n",
       "      <td>vyE1P</td>\n",
       "      <td>6.263187</td>\n",
       "      <td>-5.948386</td>\n",
       "      <td>5.001160</td>\n",
       "      <td>134.766305</td>\n",
       "    </tr>\n",
       "    <tr>\n",
       "      <th>3</th>\n",
       "      <td>KcrkZ</td>\n",
       "      <td>-13.081196</td>\n",
       "      <td>-11.506057</td>\n",
       "      <td>4.999415</td>\n",
       "      <td>137.945408</td>\n",
       "    </tr>\n",
       "    <tr>\n",
       "      <th>4</th>\n",
       "      <td>AHL4O</td>\n",
       "      <td>12.702195</td>\n",
       "      <td>-8.147433</td>\n",
       "      <td>5.004363</td>\n",
       "      <td>134.766305</td>\n",
       "    </tr>\n",
       "  </tbody>\n",
       "</table>\n",
       "</div>"
      ],
      "text/plain": [
       "      id         f0         f1        f2     product\n",
       "0  kBEdx -15.001348  -8.276000 -0.005876    3.179103\n",
       "1  62mP7  14.272088  -3.475083  0.999183   26.953261\n",
       "2  vyE1P   6.263187  -5.948386  5.001160  134.766305\n",
       "3  KcrkZ -13.081196 -11.506057  4.999415  137.945408\n",
       "4  AHL4O  12.702195  -8.147433  5.004363  134.766305"
      ]
     },
     "execution_count": 6,
     "metadata": {},
     "output_type": "execute_result"
    }
   ],
   "source": [
    "# Imprimir una muestra de los datos de df2\n",
    "df2.head()"
   ]
  },
  {
   "cell_type": "code",
   "execution_count": 7,
   "metadata": {},
   "outputs": [
    {
     "name": "stdout",
     "output_type": "stream",
     "text": [
      "<class 'pandas.core.frame.DataFrame'>\n",
      "RangeIndex: 100000 entries, 0 to 99999\n",
      "Data columns (total 5 columns):\n",
      " #   Column   Non-Null Count   Dtype  \n",
      "---  ------   --------------   -----  \n",
      " 0   id       100000 non-null  object \n",
      " 1   f0       100000 non-null  float64\n",
      " 2   f1       100000 non-null  float64\n",
      " 3   f2       100000 non-null  float64\n",
      " 4   product  100000 non-null  float64\n",
      "dtypes: float64(4), object(1)\n",
      "memory usage: 3.8+ MB\n"
     ]
    }
   ],
   "source": [
    "# Imprimir la información general/resumida sobre df1\n",
    "df3.info()"
   ]
  },
  {
   "cell_type": "code",
   "execution_count": 8,
   "metadata": {
    "scrolled": false
   },
   "outputs": [
    {
     "data": {
      "text/html": [
       "<div>\n",
       "<style scoped>\n",
       "    .dataframe tbody tr th:only-of-type {\n",
       "        vertical-align: middle;\n",
       "    }\n",
       "\n",
       "    .dataframe tbody tr th {\n",
       "        vertical-align: top;\n",
       "    }\n",
       "\n",
       "    .dataframe thead th {\n",
       "        text-align: right;\n",
       "    }\n",
       "</style>\n",
       "<table border=\"1\" class=\"dataframe\">\n",
       "  <thead>\n",
       "    <tr style=\"text-align: right;\">\n",
       "      <th></th>\n",
       "      <th>id</th>\n",
       "      <th>f0</th>\n",
       "      <th>f1</th>\n",
       "      <th>f2</th>\n",
       "      <th>product</th>\n",
       "    </tr>\n",
       "  </thead>\n",
       "  <tbody>\n",
       "    <tr>\n",
       "      <th>0</th>\n",
       "      <td>fwXo0</td>\n",
       "      <td>-1.146987</td>\n",
       "      <td>0.963328</td>\n",
       "      <td>-0.828965</td>\n",
       "      <td>27.758673</td>\n",
       "    </tr>\n",
       "    <tr>\n",
       "      <th>1</th>\n",
       "      <td>WJtFt</td>\n",
       "      <td>0.262778</td>\n",
       "      <td>0.269839</td>\n",
       "      <td>-2.530187</td>\n",
       "      <td>56.069697</td>\n",
       "    </tr>\n",
       "    <tr>\n",
       "      <th>2</th>\n",
       "      <td>ovLUW</td>\n",
       "      <td>0.194587</td>\n",
       "      <td>0.289035</td>\n",
       "      <td>-5.586433</td>\n",
       "      <td>62.871910</td>\n",
       "    </tr>\n",
       "    <tr>\n",
       "      <th>3</th>\n",
       "      <td>q6cA6</td>\n",
       "      <td>2.236060</td>\n",
       "      <td>-0.553760</td>\n",
       "      <td>0.930038</td>\n",
       "      <td>114.572842</td>\n",
       "    </tr>\n",
       "    <tr>\n",
       "      <th>4</th>\n",
       "      <td>WPMUX</td>\n",
       "      <td>-0.515993</td>\n",
       "      <td>1.716266</td>\n",
       "      <td>5.899011</td>\n",
       "      <td>149.600746</td>\n",
       "    </tr>\n",
       "  </tbody>\n",
       "</table>\n",
       "</div>"
      ],
      "text/plain": [
       "      id        f0        f1        f2     product\n",
       "0  fwXo0 -1.146987  0.963328 -0.828965   27.758673\n",
       "1  WJtFt  0.262778  0.269839 -2.530187   56.069697\n",
       "2  ovLUW  0.194587  0.289035 -5.586433   62.871910\n",
       "3  q6cA6  2.236060 -0.553760  0.930038  114.572842\n",
       "4  WPMUX -0.515993  1.716266  5.899011  149.600746"
      ]
     },
     "execution_count": 8,
     "metadata": {},
     "output_type": "execute_result"
    }
   ],
   "source": [
    "# Imprimir una muestra de los datos de df3\n",
    "df3.head()"
   ]
  },
  {
   "cell_type": "markdown",
   "metadata": {},
   "source": [
    "Se descargaron los 3 archivos geo_data_0.csv, geo_data_1.csv, geo_data_2.csv con los datos de exploración geologica de las 3 regiones y se almacenaron en la variables df1, df2, df3 correspondientemente. Se mostraron los 5 primeros elementos de cada tabla, observando que los 3 conjuntos de datos tienen 10,000 entradas y se dividen en 5 columnas cada uno."
   ]
  },
  {
   "cell_type": "code",
   "execution_count": 9,
   "metadata": {},
   "outputs": [
    {
     "name": "stdout",
     "output_type": "stream",
     "text": [
      "Total de valores nulos en df1: 0\n",
      "Total de filas duplicadas en df1: 0\n",
      "\n",
      "Total de valores nulos en df2: 0\n",
      "Total de filas duplicadas en df2: 0\n",
      "\n",
      "Total de valores nulos en df3: 0\n",
      "Total de filas duplicadas en df3: 0\n"
     ]
    }
   ],
   "source": [
    "#Verificar valores nulos y duplicados\n",
    "total_nulos1 = df1.isnull().sum().sum()\n",
    "print(\"Total de valores nulos en df1:\", total_nulos1)\n",
    "total_duplicados1 = df1.duplicated().any().sum()\n",
    "print(\"Total de filas duplicadas en df1:\", total_duplicados1)\n",
    "total_nulos2 = df2.isnull().sum().sum()\n",
    "print(\"\\nTotal de valores nulos en df2:\", total_nulos2)\n",
    "total_duplicados2 = df2.duplicated().any().sum()\n",
    "print(\"Total de filas duplicadas en df2:\", total_duplicados2)\n",
    "total_nulos3 = df3.isnull().sum().sum()\n",
    "print(\"\\nTotal de valores nulos en df3:\", total_nulos3)\n",
    "total_duplicados3 = df3.duplicated().any().sum()\n",
    "print(\"Total de filas duplicadas en df3:\", total_duplicados3)"
   ]
  },
  {
   "cell_type": "code",
   "execution_count": 10,
   "metadata": {
    "scrolled": true
   },
   "outputs": [
    {
     "data": {
      "text/html": [
       "<div>\n",
       "<style scoped>\n",
       "    .dataframe tbody tr th:only-of-type {\n",
       "        vertical-align: middle;\n",
       "    }\n",
       "\n",
       "    .dataframe tbody tr th {\n",
       "        vertical-align: top;\n",
       "    }\n",
       "\n",
       "    .dataframe thead th {\n",
       "        text-align: right;\n",
       "    }\n",
       "</style>\n",
       "<table border=\"1\" class=\"dataframe\">\n",
       "  <thead>\n",
       "    <tr style=\"text-align: right;\">\n",
       "      <th></th>\n",
       "      <th>f0</th>\n",
       "      <th>f1</th>\n",
       "      <th>f2</th>\n",
       "      <th>product</th>\n",
       "    </tr>\n",
       "  </thead>\n",
       "  <tbody>\n",
       "    <tr>\n",
       "      <th>0</th>\n",
       "      <td>0.705745</td>\n",
       "      <td>-0.497823</td>\n",
       "      <td>1.221170</td>\n",
       "      <td>105.280062</td>\n",
       "    </tr>\n",
       "    <tr>\n",
       "      <th>1</th>\n",
       "      <td>1.334711</td>\n",
       "      <td>-0.340164</td>\n",
       "      <td>4.365080</td>\n",
       "      <td>73.037750</td>\n",
       "    </tr>\n",
       "    <tr>\n",
       "      <th>2</th>\n",
       "      <td>1.022732</td>\n",
       "      <td>0.151990</td>\n",
       "      <td>1.419926</td>\n",
       "      <td>85.265647</td>\n",
       "    </tr>\n",
       "    <tr>\n",
       "      <th>3</th>\n",
       "      <td>-0.032172</td>\n",
       "      <td>0.139033</td>\n",
       "      <td>2.978566</td>\n",
       "      <td>168.620776</td>\n",
       "    </tr>\n",
       "    <tr>\n",
       "      <th>4</th>\n",
       "      <td>1.988431</td>\n",
       "      <td>0.155413</td>\n",
       "      <td>4.751769</td>\n",
       "      <td>154.036647</td>\n",
       "    </tr>\n",
       "  </tbody>\n",
       "</table>\n",
       "</div>"
      ],
      "text/plain": [
       "         f0        f1        f2     product\n",
       "0  0.705745 -0.497823  1.221170  105.280062\n",
       "1  1.334711 -0.340164  4.365080   73.037750\n",
       "2  1.022732  0.151990  1.419926   85.265647\n",
       "3 -0.032172  0.139033  2.978566  168.620776\n",
       "4  1.988431  0.155413  4.751769  154.036647"
      ]
     },
     "execution_count": 10,
     "metadata": {},
     "output_type": "execute_result"
    }
   ],
   "source": [
    "#Eliminar columnas innecesarias de df1\n",
    "columnas_a_eliminar = ['id']\n",
    "region_1 = df1.drop(columnas_a_eliminar, axis=1)\n",
    "region_1.head()"
   ]
  },
  {
   "cell_type": "code",
   "execution_count": 11,
   "metadata": {},
   "outputs": [
    {
     "data": {
      "text/html": [
       "<div>\n",
       "<style scoped>\n",
       "    .dataframe tbody tr th:only-of-type {\n",
       "        vertical-align: middle;\n",
       "    }\n",
       "\n",
       "    .dataframe tbody tr th {\n",
       "        vertical-align: top;\n",
       "    }\n",
       "\n",
       "    .dataframe thead th {\n",
       "        text-align: right;\n",
       "    }\n",
       "</style>\n",
       "<table border=\"1\" class=\"dataframe\">\n",
       "  <thead>\n",
       "    <tr style=\"text-align: right;\">\n",
       "      <th></th>\n",
       "      <th>f0</th>\n",
       "      <th>f1</th>\n",
       "      <th>f2</th>\n",
       "      <th>product</th>\n",
       "    </tr>\n",
       "  </thead>\n",
       "  <tbody>\n",
       "    <tr>\n",
       "      <th>0</th>\n",
       "      <td>-15.001348</td>\n",
       "      <td>-8.276000</td>\n",
       "      <td>-0.005876</td>\n",
       "      <td>3.179103</td>\n",
       "    </tr>\n",
       "    <tr>\n",
       "      <th>1</th>\n",
       "      <td>14.272088</td>\n",
       "      <td>-3.475083</td>\n",
       "      <td>0.999183</td>\n",
       "      <td>26.953261</td>\n",
       "    </tr>\n",
       "    <tr>\n",
       "      <th>2</th>\n",
       "      <td>6.263187</td>\n",
       "      <td>-5.948386</td>\n",
       "      <td>5.001160</td>\n",
       "      <td>134.766305</td>\n",
       "    </tr>\n",
       "    <tr>\n",
       "      <th>3</th>\n",
       "      <td>-13.081196</td>\n",
       "      <td>-11.506057</td>\n",
       "      <td>4.999415</td>\n",
       "      <td>137.945408</td>\n",
       "    </tr>\n",
       "    <tr>\n",
       "      <th>4</th>\n",
       "      <td>12.702195</td>\n",
       "      <td>-8.147433</td>\n",
       "      <td>5.004363</td>\n",
       "      <td>134.766305</td>\n",
       "    </tr>\n",
       "  </tbody>\n",
       "</table>\n",
       "</div>"
      ],
      "text/plain": [
       "          f0         f1        f2     product\n",
       "0 -15.001348  -8.276000 -0.005876    3.179103\n",
       "1  14.272088  -3.475083  0.999183   26.953261\n",
       "2   6.263187  -5.948386  5.001160  134.766305\n",
       "3 -13.081196 -11.506057  4.999415  137.945408\n",
       "4  12.702195  -8.147433  5.004363  134.766305"
      ]
     },
     "execution_count": 11,
     "metadata": {},
     "output_type": "execute_result"
    }
   ],
   "source": [
    "#Eliminar columnas innecesarias de df2\n",
    "columnas_a_eliminar = ['id']\n",
    "region_2 = df2.drop(columnas_a_eliminar, axis=1)\n",
    "region_2.head()"
   ]
  },
  {
   "cell_type": "code",
   "execution_count": 12,
   "metadata": {},
   "outputs": [
    {
     "data": {
      "text/html": [
       "<div>\n",
       "<style scoped>\n",
       "    .dataframe tbody tr th:only-of-type {\n",
       "        vertical-align: middle;\n",
       "    }\n",
       "\n",
       "    .dataframe tbody tr th {\n",
       "        vertical-align: top;\n",
       "    }\n",
       "\n",
       "    .dataframe thead th {\n",
       "        text-align: right;\n",
       "    }\n",
       "</style>\n",
       "<table border=\"1\" class=\"dataframe\">\n",
       "  <thead>\n",
       "    <tr style=\"text-align: right;\">\n",
       "      <th></th>\n",
       "      <th>f0</th>\n",
       "      <th>f1</th>\n",
       "      <th>f2</th>\n",
       "      <th>product</th>\n",
       "    </tr>\n",
       "  </thead>\n",
       "  <tbody>\n",
       "    <tr>\n",
       "      <th>0</th>\n",
       "      <td>-1.146987</td>\n",
       "      <td>0.963328</td>\n",
       "      <td>-0.828965</td>\n",
       "      <td>27.758673</td>\n",
       "    </tr>\n",
       "    <tr>\n",
       "      <th>1</th>\n",
       "      <td>0.262778</td>\n",
       "      <td>0.269839</td>\n",
       "      <td>-2.530187</td>\n",
       "      <td>56.069697</td>\n",
       "    </tr>\n",
       "    <tr>\n",
       "      <th>2</th>\n",
       "      <td>0.194587</td>\n",
       "      <td>0.289035</td>\n",
       "      <td>-5.586433</td>\n",
       "      <td>62.871910</td>\n",
       "    </tr>\n",
       "    <tr>\n",
       "      <th>3</th>\n",
       "      <td>2.236060</td>\n",
       "      <td>-0.553760</td>\n",
       "      <td>0.930038</td>\n",
       "      <td>114.572842</td>\n",
       "    </tr>\n",
       "    <tr>\n",
       "      <th>4</th>\n",
       "      <td>-0.515993</td>\n",
       "      <td>1.716266</td>\n",
       "      <td>5.899011</td>\n",
       "      <td>149.600746</td>\n",
       "    </tr>\n",
       "  </tbody>\n",
       "</table>\n",
       "</div>"
      ],
      "text/plain": [
       "         f0        f1        f2     product\n",
       "0 -1.146987  0.963328 -0.828965   27.758673\n",
       "1  0.262778  0.269839 -2.530187   56.069697\n",
       "2  0.194587  0.289035 -5.586433   62.871910\n",
       "3  2.236060 -0.553760  0.930038  114.572842\n",
       "4 -0.515993  1.716266  5.899011  149.600746"
      ]
     },
     "execution_count": 12,
     "metadata": {},
     "output_type": "execute_result"
    }
   ],
   "source": [
    "#Eliminar columnas innecesarias de df3\n",
    "columnas_a_eliminar = ['id']\n",
    "region_3 = df3.drop(columnas_a_eliminar, axis=1)\n",
    "region_3.head()"
   ]
  },
  {
   "cell_type": "markdown",
   "metadata": {},
   "source": [
    "Se verifico que en los 3 conjuntos de datos no tuvieran valores nulos ni valores duplicados. Tambien se elimino en los 3 conjuntos de datos la columna de 'id' para un mejor analisis de los datos."
   ]
  },
  {
   "cell_type": "markdown",
   "metadata": {},
   "source": [
    "<div class=\"alert alert-block alert-success\">\n",
    "<b>Comentario del revisor</b> <a class=\"tocSkip\"></a>\n",
    "    \n",
    "Has hecho bien con esta exploración inicial de la información.\n",
    "</div>"
   ]
  },
  {
   "cell_type": "markdown",
   "metadata": {},
   "source": [
    "## Entrenar y probar el modelo en cada región"
   ]
  },
  {
   "cell_type": "markdown",
   "metadata": {},
   "source": [
    "### Dividir los datos en conjunto de entrenamiento y  conjunto de validación en proporcion de 75:25 "
   ]
  },
  {
   "cell_type": "code",
   "execution_count": 13,
   "metadata": {},
   "outputs": [
    {
     "name": "stdout",
     "output_type": "stream",
     "text": [
      "Dataset de entrenamiento de la región 1 (75000, 3) (75000,)\n",
      "Dataset de validacion de la región 1 (25000, 3) (25000,)\n"
     ]
    }
   ],
   "source": [
    "#Segmentar los datos en la región 1\n",
    "target1 = region_1['product']\n",
    "features1 = region_1.drop(['product'], axis=1)\n",
    "features_train1, features_valid1, target_train1, target_valid1 = train_test_split(features1, target1, test_size=0.25, random_state=88)\n",
    "    \n",
    "print('Dataset de entrenamiento de la región 1', features_train1.shape, target_train1.shape)\n",
    "print('Dataset de validacion de la región 1', features_valid1.shape, target_valid1.shape)"
   ]
  },
  {
   "cell_type": "code",
   "execution_count": 14,
   "metadata": {},
   "outputs": [
    {
     "name": "stdout",
     "output_type": "stream",
     "text": [
      "Dataset de entrenamiento de la región 2 (75000, 3) (75000,)\n",
      "Dataset de validacion de la región 2 (25000, 3) (25000,)\n"
     ]
    }
   ],
   "source": [
    "#Segmentar los datos en la región 2\n",
    "target2 = region_2['product']\n",
    "features2 = region_2.drop(['product'], axis=1)\n",
    "features_train2, features_valid2, target_train2, target_valid2 = train_test_split(features2, target2, test_size=0.25, random_state=88)\n",
    "    \n",
    "print('Dataset de entrenamiento de la región 2', features_train2.shape, target_train2.shape)\n",
    "print('Dataset de validacion de la región 2', features_valid2.shape, target_valid2.shape)"
   ]
  },
  {
   "cell_type": "code",
   "execution_count": 15,
   "metadata": {},
   "outputs": [
    {
     "name": "stdout",
     "output_type": "stream",
     "text": [
      "Dataset de entrenamiento de la región 3 (75000, 3) (75000,)\n",
      "Dataset de validacion de la región 3 (25000, 3) (25000,)\n"
     ]
    }
   ],
   "source": [
    "#Segmentar los datos en la región 3\n",
    "target3 = region_3['product']\n",
    "features3 = region_3.drop(['product'], axis=1)\n",
    "features_train3, features_valid3, target_train3, target_valid3 = train_test_split(features3, target3, test_size=0.25, random_state=88)\n",
    "    \n",
    "print('Dataset de entrenamiento de la región 3', features_train3.shape, target_train3.shape)\n",
    "print('Dataset de validacion de la región 3', features_valid3.shape, target_valid3.shape)"
   ]
  },
  {
   "cell_type": "markdown",
   "metadata": {},
   "source": [
    "Se dividieron los 3 conjuntos de datos en 2 partes: en dataset de entrenamiento (75% del total de datos) y dataset de validación (25% del total de datos)."
   ]
  },
  {
   "cell_type": "markdown",
   "metadata": {},
   "source": [
    "### Entrenar el modelo y hacer predicciones para el conjunto de validación"
   ]
  },
  {
   "cell_type": "code",
   "execution_count": 16,
   "metadata": {},
   "outputs": [],
   "source": [
    "#Entrenar el modelo y hacer predicciones en las región 1\n",
    "model_region1 = LinearRegression()\n",
    "model_region1.fit(features_train1, target_train1)\n",
    "predicted_valid1 = model_region1.predict(features_valid1)\n"
   ]
  },
  {
   "cell_type": "code",
   "execution_count": 17,
   "metadata": {},
   "outputs": [],
   "source": [
    "#Entrenar el modelo y hacer predicciones en las región 2\n",
    "model_region2 = LinearRegression()\n",
    "model_region2.fit(features_train2, target_train2)\n",
    "predicted_valid2 = model_region2.predict(features_valid2)\n"
   ]
  },
  {
   "cell_type": "code",
   "execution_count": 18,
   "metadata": {},
   "outputs": [],
   "source": [
    "#Entrenar el modelo y hacer predicciones en las región 1\n",
    "model_region3 = LinearRegression()\n",
    "model_region3.fit(features_train3, target_train3)\n",
    "predicted_valid3 = model_region3.predict(features_valid3)\n"
   ]
  },
  {
   "cell_type": "markdown",
   "metadata": {},
   "source": [
    "Entrenamos los 3 conjuntos de datos en el dataset de entrenamiento utilizando la regresion lineal ya que el objetivo es númerico "
   ]
  },
  {
   "cell_type": "markdown",
   "metadata": {},
   "source": [
    "### Guardar las predicciones y respuestas correctas para el conjunto de validación"
   ]
  },
  {
   "cell_type": "code",
   "execution_count": 19,
   "metadata": {
    "scrolled": true
   },
   "outputs": [
    {
     "data": {
      "text/html": [
       "<div>\n",
       "<style scoped>\n",
       "    .dataframe tbody tr th:only-of-type {\n",
       "        vertical-align: middle;\n",
       "    }\n",
       "\n",
       "    .dataframe tbody tr th {\n",
       "        vertical-align: top;\n",
       "    }\n",
       "\n",
       "    .dataframe thead th {\n",
       "        text-align: right;\n",
       "    }\n",
       "</style>\n",
       "<table border=\"1\" class=\"dataframe\">\n",
       "  <thead>\n",
       "    <tr style=\"text-align: right;\">\n",
       "      <th></th>\n",
       "      <th>predicciones</th>\n",
       "      <th>respuestas_correctas</th>\n",
       "    </tr>\n",
       "  </thead>\n",
       "  <tbody>\n",
       "    <tr>\n",
       "      <th>0</th>\n",
       "      <td>121.234306</td>\n",
       "      <td>123.801417</td>\n",
       "    </tr>\n",
       "    <tr>\n",
       "      <th>1</th>\n",
       "      <td>79.036922</td>\n",
       "      <td>30.132880</td>\n",
       "    </tr>\n",
       "    <tr>\n",
       "      <th>2</th>\n",
       "      <td>114.655055</td>\n",
       "      <td>157.733201</td>\n",
       "    </tr>\n",
       "    <tr>\n",
       "      <th>3</th>\n",
       "      <td>97.422219</td>\n",
       "      <td>140.020959</td>\n",
       "    </tr>\n",
       "    <tr>\n",
       "      <th>4</th>\n",
       "      <td>85.743222</td>\n",
       "      <td>104.368564</td>\n",
       "    </tr>\n",
       "  </tbody>\n",
       "</table>\n",
       "</div>"
      ],
      "text/plain": [
       "   predicciones  respuestas_correctas\n",
       "0    121.234306            123.801417\n",
       "1     79.036922             30.132880\n",
       "2    114.655055            157.733201\n",
       "3     97.422219            140.020959\n",
       "4     85.743222            104.368564"
      ]
     },
     "execution_count": 19,
     "metadata": {},
     "output_type": "execute_result"
    }
   ],
   "source": [
    "#Guardar predicciones y respuestas correctas en la región 1\n",
    "resultados1 = pd.DataFrame({'predicciones': predicted_valid1, 'respuestas_correctas': target_valid1.values})\n",
    "resultados1.head()"
   ]
  },
  {
   "cell_type": "code",
   "execution_count": 20,
   "metadata": {},
   "outputs": [
    {
     "data": {
      "text/html": [
       "<div>\n",
       "<style scoped>\n",
       "    .dataframe tbody tr th:only-of-type {\n",
       "        vertical-align: middle;\n",
       "    }\n",
       "\n",
       "    .dataframe tbody tr th {\n",
       "        vertical-align: top;\n",
       "    }\n",
       "\n",
       "    .dataframe thead th {\n",
       "        text-align: right;\n",
       "    }\n",
       "</style>\n",
       "<table border=\"1\" class=\"dataframe\">\n",
       "  <thead>\n",
       "    <tr style=\"text-align: right;\">\n",
       "      <th></th>\n",
       "      <th>predicciones</th>\n",
       "      <th>respuestas_correctas</th>\n",
       "    </tr>\n",
       "  </thead>\n",
       "  <tbody>\n",
       "    <tr>\n",
       "      <th>0</th>\n",
       "      <td>134.662513</td>\n",
       "      <td>134.766305</td>\n",
       "    </tr>\n",
       "    <tr>\n",
       "      <th>1</th>\n",
       "      <td>108.418348</td>\n",
       "      <td>107.813044</td>\n",
       "    </tr>\n",
       "    <tr>\n",
       "      <th>2</th>\n",
       "      <td>56.612666</td>\n",
       "      <td>57.085625</td>\n",
       "    </tr>\n",
       "    <tr>\n",
       "      <th>3</th>\n",
       "      <td>81.537792</td>\n",
       "      <td>80.859783</td>\n",
       "    </tr>\n",
       "    <tr>\n",
       "      <th>4</th>\n",
       "      <td>81.124996</td>\n",
       "      <td>80.859783</td>\n",
       "    </tr>\n",
       "  </tbody>\n",
       "</table>\n",
       "</div>"
      ],
      "text/plain": [
       "   predicciones  respuestas_correctas\n",
       "0    134.662513            134.766305\n",
       "1    108.418348            107.813044\n",
       "2     56.612666             57.085625\n",
       "3     81.537792             80.859783\n",
       "4     81.124996             80.859783"
      ]
     },
     "execution_count": 20,
     "metadata": {},
     "output_type": "execute_result"
    }
   ],
   "source": [
    "#Guardar predicciones y respuestas correctas en la región 2\n",
    "resultados2 = pd.DataFrame({'predicciones': predicted_valid2, 'respuestas_correctas': target_valid2.values})\n",
    "resultados2.head()"
   ]
  },
  {
   "cell_type": "code",
   "execution_count": 21,
   "metadata": {
    "scrolled": true
   },
   "outputs": [
    {
     "data": {
      "text/html": [
       "<div>\n",
       "<style scoped>\n",
       "    .dataframe tbody tr th:only-of-type {\n",
       "        vertical-align: middle;\n",
       "    }\n",
       "\n",
       "    .dataframe tbody tr th {\n",
       "        vertical-align: top;\n",
       "    }\n",
       "\n",
       "    .dataframe thead th {\n",
       "        text-align: right;\n",
       "    }\n",
       "</style>\n",
       "<table border=\"1\" class=\"dataframe\">\n",
       "  <thead>\n",
       "    <tr style=\"text-align: right;\">\n",
       "      <th></th>\n",
       "      <th>predicciones</th>\n",
       "      <th>respuestas_correctas</th>\n",
       "    </tr>\n",
       "  </thead>\n",
       "  <tbody>\n",
       "    <tr>\n",
       "      <th>0</th>\n",
       "      <td>129.396185</td>\n",
       "      <td>168.989257</td>\n",
       "    </tr>\n",
       "    <tr>\n",
       "      <th>1</th>\n",
       "      <td>120.201671</td>\n",
       "      <td>89.151554</td>\n",
       "    </tr>\n",
       "    <tr>\n",
       "      <th>2</th>\n",
       "      <td>115.891075</td>\n",
       "      <td>141.126068</td>\n",
       "    </tr>\n",
       "    <tr>\n",
       "      <th>3</th>\n",
       "      <td>82.396435</td>\n",
       "      <td>156.962126</td>\n",
       "    </tr>\n",
       "    <tr>\n",
       "      <th>4</th>\n",
       "      <td>90.837385</td>\n",
       "      <td>106.932658</td>\n",
       "    </tr>\n",
       "  </tbody>\n",
       "</table>\n",
       "</div>"
      ],
      "text/plain": [
       "   predicciones  respuestas_correctas\n",
       "0    129.396185            168.989257\n",
       "1    120.201671             89.151554\n",
       "2    115.891075            141.126068\n",
       "3     82.396435            156.962126\n",
       "4     90.837385            106.932658"
      ]
     },
     "execution_count": 21,
     "metadata": {},
     "output_type": "execute_result"
    }
   ],
   "source": [
    "#Guardar predicciones y respuestas correctas en la región 3\n",
    "resultados3 = pd.DataFrame({'predicciones': predicted_valid3, 'respuestas_correctas': target_valid3.values})\n",
    "resultados3.head()"
   ]
  },
  {
   "cell_type": "markdown",
   "metadata": {},
   "source": [
    "Guardamos los resultados de las 3 regiones en un DataFrame cada uno, con las predicciones y respuestas correctas para el conjunto de validación.  "
   ]
  },
  {
   "cell_type": "markdown",
   "metadata": {},
   "source": [
    "<div class=\"alert alert-block alert-success\">\n",
    "<b>Comentario del revisor</b> <a class=\"tocSkip\"></a>\n",
    "    \n",
    "Muy buen trabajo en esta sección.\n",
    "</div>"
   ]
  },
  {
   "cell_type": "markdown",
   "metadata": {},
   "source": [
    "### Mostrar el volumen medio de reservas predicho y RMSE del modelo"
   ]
  },
  {
   "cell_type": "code",
   "execution_count": 22,
   "metadata": {},
   "outputs": [
    {
     "name": "stdout",
     "output_type": "stream",
     "text": [
      "Volumen medio de reservas de la región 1 = 92.61602155606631\n",
      "Raíz Cuadrada del Error Cuadratico Medio (RMSE) de la región 1 = 37.37693856838324\n"
     ]
    }
   ],
   "source": [
    "#Volumen medio de reservas predicho y RMSE del modelo de la región 1\n",
    "volumen_medio_reservas1 = resultados1['predicciones'].mean()\n",
    "print(\"Volumen medio de reservas de la región 1 =\", volumen_medio_reservas1)\n",
    "\n",
    "mse1 = mean_squared_error(target_valid1, predicted_valid1)\n",
    "print(\"Raíz Cuadrada del Error Cuadratico Medio (RMSE) de la región 1 =\", mse1 ** 0.5)"
   ]
  },
  {
   "cell_type": "code",
   "execution_count": 23,
   "metadata": {},
   "outputs": [
    {
     "name": "stdout",
     "output_type": "stream",
     "text": [
      "Volumen medio de reservas de la región 2 = 68.8413655286577\n",
      "Raíz Cuadrada del Error Cuadratico Medio (RMSE) de la región 2 = 0.8976095608958887\n"
     ]
    }
   ],
   "source": [
    "#Volumen medio de reservas predicho y RMSE del modelo de la región 2\n",
    "volumen_medio_reservas2 = resultados2['predicciones'].mean()\n",
    "print(\"Volumen medio de reservas de la región 2 =\", volumen_medio_reservas2)\n",
    "\n",
    "mse2 = mean_squared_error(target_valid2, predicted_valid2)\n",
    "print(\"Raíz Cuadrada del Error Cuadratico Medio (RMSE) de la región 2 =\", mse2 ** 0.5)"
   ]
  },
  {
   "cell_type": "code",
   "execution_count": 24,
   "metadata": {},
   "outputs": [
    {
     "name": "stdout",
     "output_type": "stream",
     "text": [
      "Volumen medio de reservas de la región 3 = 95.18516847231068\n",
      "Raíz Cuadrada del Error Cuadratico Medio (RMSE) de la región 3 = 40.15761558006934\n"
     ]
    }
   ],
   "source": [
    "#Volumen medio de reservas predicho y RMSE del modelo de la región 3\n",
    "volumen_medio_reservas3 = resultados3['predicciones'].mean()\n",
    "print(\"Volumen medio de reservas de la región 3 =\", volumen_medio_reservas3)\n",
    "\n",
    "mse3 = mean_squared_error(target_valid3, predicted_valid3)\n",
    "print(\"Raíz Cuadrada del Error Cuadratico Medio (RMSE) de la región 3 =\", mse3 ** 0.5)"
   ]
  },
  {
   "cell_type": "markdown",
   "metadata": {},
   "source": [
    "Calculamos para cada región el MSE (Mean Squared Error) y RMSE (Root Mean Squared Error) que son métricas comunes utilizadas para evaluar el rendimiento de modelos de regresión"
   ]
  },
  {
   "cell_type": "markdown",
   "metadata": {},
   "source": [
    "<div class=\"alert alert-block alert-success\">\n",
    "<b>Comentario del revisor</b> <a class=\"tocSkip\"></a>\n",
    "    \n",
    "¡Perfecto!\n",
    "</div>"
   ]
  },
  {
   "cell_type": "markdown",
   "metadata": {},
   "source": [
    "### Analizar los resultados"
   ]
  },
  {
   "cell_type": "markdown",
   "metadata": {},
   "source": [
    "Calculando el RMSE para las 3 regiones encontramos que el valor mas cercano a 0 es en la región 2, con un valor RMSE = 0.8976095608958887, esto indica un mejor ajuste del modelo a los datos, en cambio las regiones 1 y 3 estan mas alejadas del valor 0 indicando un mayor error entre las predicciones y los valores reales, lo que implica un peor ajuste del modelo"
   ]
  },
  {
   "cell_type": "markdown",
   "metadata": {},
   "source": [
    "### Colocar pasos previos en funciones y ejecutarlos en todas las regiones"
   ]
  },
  {
   "cell_type": "code",
   "execution_count": 25,
   "metadata": {},
   "outputs": [
    {
     "name": "stdout",
     "output_type": "stream",
     "text": [
      "Volumen medio de reservas = 92.61602155606631\n",
      "Raíz Cuadrada del Error Cuadratico Medio (RMSE) = 37.37693856838324\n",
      "Volumen medio de reservas = 68.8413655286577\n",
      "Raíz Cuadrada del Error Cuadratico Medio (RMSE) = 0.8976095608958887\n",
      "Volumen medio de reservas = 95.18516847231068\n",
      "Raíz Cuadrada del Error Cuadratico Medio (RMSE) = 40.15761558006934\n"
     ]
    }
   ],
   "source": [
    "#Función para todas las regiones\n",
    "def entrenamiento_modelo_regiones(data):\n",
    "    \n",
    "    target = data['product']\n",
    "    features = data.drop(['product'], axis=1)\n",
    "    features_train, features_valid, target_train, target_valid = train_test_split(features, target, test_size=0.25, random_state=88)\n",
    "    \n",
    "    model = LinearRegression()\n",
    "    model.fit(features_train, target_train)\n",
    "    predicted_valid = model.predict(features_valid)\n",
    "    \n",
    "    resultados = pd.DataFrame({'predicciones': predicted_valid, 'respuestas_correctas': target_valid.values})\n",
    "    \n",
    "    volumen_medio_reservas = resultados['predicciones'].mean()\n",
    "    mse = mean_squared_error(target_valid, predicted_valid)\n",
    "    rmse = mse ** 0.5\n",
    "    \n",
    "    print(\"Volumen medio de reservas =\", volumen_medio_reservas)\n",
    "    print(\"Raíz Cuadrada del Error Cuadratico Medio (RMSE) =\", rmse)\n",
    "    \n",
    "    return resultados \n",
    "    \n",
    "resultados_region_1 = entrenamiento_modelo_regiones(region_1)\n",
    "resultados_region_2 = entrenamiento_modelo_regiones(region_2)\n",
    "resultados_region_3 = entrenamiento_modelo_regiones(region_3)    "
   ]
  },
  {
   "cell_type": "markdown",
   "metadata": {},
   "source": [
    "Creamos la función entrenamiento_modelo_regiones  para calcular el MSE y RMSE de las 3 regiones en un solo paso para simplificar nuestro codigo."
   ]
  },
  {
   "cell_type": "markdown",
   "metadata": {},
   "source": [
    "<div class=\"alert alert-block alert-success\">\n",
    "<b>Comentario del revisor</b> <a class=\"tocSkip\"></a>\n",
    "\n",
    "Bien. Siempre es mejor aprovechas las oportunidades de modularización.\n",
    "</div>"
   ]
  },
  {
   "cell_type": "markdown",
   "metadata": {},
   "source": [
    "## Calculo de ganancias"
   ]
  },
  {
   "cell_type": "markdown",
   "metadata": {},
   "source": [
    "### Almacenar todos los valores necesarios para los calculos en variables separadas"
   ]
  },
  {
   "cell_type": "code",
   "execution_count": 26,
   "metadata": {},
   "outputs": [],
   "source": [
    "#Almacenar valores en variables\n",
    "volumen_medio_reservas_region_1 = 92.61602155606631\n",
    "volumen_medio_reservas_region_2 = 68.8413655286577\n",
    "volumen_medio_reservas_region_3 = 95.18516847231068\n"
   ]
  },
  {
   "cell_type": "markdown",
   "metadata": {},
   "source": [
    "Almacenamos los valores necesarios de acuerdo a las condiciones del proyecto para facilitar calculos posteriores"
   ]
  },
  {
   "cell_type": "markdown",
   "metadata": {},
   "source": [
    "### Comparar cantidades "
   ]
  },
  {
   "cell_type": "code",
   "execution_count": 27,
   "metadata": {},
   "outputs": [],
   "source": [
    "#Condiciones del negocio\n",
    "presupuesto = 100_000_000\n",
    "numero_de_pozos = 200\n",
    "unidad_barril = 4_500\n",
    "unidades_evitar_perdidas = 111.1"
   ]
  },
  {
   "cell_type": "code",
   "execution_count": 28,
   "metadata": {},
   "outputs": [
    {
     "name": "stdout",
     "output_type": "stream",
     "text": [
      "Región 1 = 18.48397844393368 unidades faltantes\n",
      "Región 2 = 42.25863447134229 unidades faltantes\n",
      "Región 3 = 15.914831527689316 unidades faltantes\n"
     ]
    }
   ],
   "source": [
    "#Comparar cantidades (unidades_evitar_perdidas con cantidad media de reservas en cada región)\n",
    "unidades_region_1 = unidades_evitar_perdidas - volumen_medio_reservas_region_1\n",
    "unidades_region_2 = unidades_evitar_perdidas - volumen_medio_reservas_region_2\n",
    "unidades_region_3 = unidades_evitar_perdidas - volumen_medio_reservas_region_3\n",
    "\n",
    "print('Región 1 =', unidades_region_1, 'unidades faltantes')\n",
    "print('Región 2 =', unidades_region_2, 'unidades faltantes')\n",
    "print('Región 3 =', unidades_region_3, 'unidades faltantes')\n",
    "\n",
    "\n"
   ]
  },
  {
   "cell_type": "markdown",
   "metadata": {},
   "source": [
    "Comparamos las cantidades de las 3 regiones observando que las 1 y 3 son las que menos unidades faltantes requieren para tener perdidas."
   ]
  },
  {
   "cell_type": "markdown",
   "metadata": {},
   "source": [
    "### Presentar conclusiones sobre como preparar el paso para calcular el beneficio"
   ]
  },
  {
   "cell_type": "markdown",
   "metadata": {},
   "source": [
    "De acuerdo con la comparacion de datos en las 3 regiones, observamos que en ninguna de las regiones tenemos las suficientes unidades requeridas para tener ganancias, para preparar el beneficio buscaremos los 200 pozos con los valores de predicción mas altos."
   ]
  },
  {
   "cell_type": "markdown",
   "metadata": {},
   "source": [
    "<div class=\"alert alert-block alert-success\">\n",
    "<b>Comentario del revisor</b> <a class=\"tocSkip\"></a>\n",
    "    \n",
    "Buen trabajo.\n",
    "</div>"
   ]
  },
  {
   "cell_type": "markdown",
   "metadata": {},
   "source": [
    "## Escribir una función para calcular la ganancia en cada región"
   ]
  },
  {
   "cell_type": "markdown",
   "metadata": {},
   "source": [
    "### Elegir los 200 pozos con los valores de predicción mas altos "
   ]
  },
  {
   "cell_type": "code",
   "execution_count": 29,
   "metadata": {},
   "outputs": [
    {
     "data": {
      "text/html": [
       "<div>\n",
       "<style scoped>\n",
       "    .dataframe tbody tr th:only-of-type {\n",
       "        vertical-align: middle;\n",
       "    }\n",
       "\n",
       "    .dataframe tbody tr th {\n",
       "        vertical-align: top;\n",
       "    }\n",
       "\n",
       "    .dataframe thead th {\n",
       "        text-align: right;\n",
       "    }\n",
       "</style>\n",
       "<table border=\"1\" class=\"dataframe\">\n",
       "  <thead>\n",
       "    <tr style=\"text-align: right;\">\n",
       "      <th></th>\n",
       "      <th>predicciones</th>\n",
       "      <th>respuestas_correctas</th>\n",
       "    </tr>\n",
       "  </thead>\n",
       "  <tbody>\n",
       "    <tr>\n",
       "      <th>10250</th>\n",
       "      <td>177.534575</td>\n",
       "      <td>123.920559</td>\n",
       "    </tr>\n",
       "    <tr>\n",
       "      <th>15417</th>\n",
       "      <td>176.072505</td>\n",
       "      <td>140.631646</td>\n",
       "    </tr>\n",
       "    <tr>\n",
       "      <th>18321</th>\n",
       "      <td>175.919680</td>\n",
       "      <td>162.153488</td>\n",
       "    </tr>\n",
       "    <tr>\n",
       "      <th>831</th>\n",
       "      <td>173.913571</td>\n",
       "      <td>145.106893</td>\n",
       "    </tr>\n",
       "    <tr>\n",
       "      <th>8050</th>\n",
       "      <td>172.689685</td>\n",
       "      <td>176.807828</td>\n",
       "    </tr>\n",
       "    <tr>\n",
       "      <th>...</th>\n",
       "      <td>...</td>\n",
       "      <td>...</td>\n",
       "    </tr>\n",
       "    <tr>\n",
       "      <th>7619</th>\n",
       "      <td>147.730639</td>\n",
       "      <td>162.897833</td>\n",
       "    </tr>\n",
       "    <tr>\n",
       "      <th>23303</th>\n",
       "      <td>147.702197</td>\n",
       "      <td>120.776707</td>\n",
       "    </tr>\n",
       "    <tr>\n",
       "      <th>9370</th>\n",
       "      <td>147.679288</td>\n",
       "      <td>138.886443</td>\n",
       "    </tr>\n",
       "    <tr>\n",
       "      <th>18267</th>\n",
       "      <td>147.666609</td>\n",
       "      <td>148.408951</td>\n",
       "    </tr>\n",
       "    <tr>\n",
       "      <th>21891</th>\n",
       "      <td>147.644635</td>\n",
       "      <td>150.835439</td>\n",
       "    </tr>\n",
       "  </tbody>\n",
       "</table>\n",
       "<p>200 rows × 2 columns</p>\n",
       "</div>"
      ],
      "text/plain": [
       "       predicciones  respuestas_correctas\n",
       "10250    177.534575            123.920559\n",
       "15417    176.072505            140.631646\n",
       "18321    175.919680            162.153488\n",
       "831      173.913571            145.106893\n",
       "8050     172.689685            176.807828\n",
       "...             ...                   ...\n",
       "7619     147.730639            162.897833\n",
       "23303    147.702197            120.776707\n",
       "9370     147.679288            138.886443\n",
       "18267    147.666609            148.408951\n",
       "21891    147.644635            150.835439\n",
       "\n",
       "[200 rows x 2 columns]"
      ]
     },
     "execution_count": 29,
     "metadata": {},
     "output_type": "execute_result"
    }
   ],
   "source": [
    "#Ordenar las predicciones en la region 1\n",
    "top_200_pozos_r1 = resultados1.sort_values(by='predicciones', ascending=False)\n",
    "top_200_pozos_r1 = top_200_pozos_r1.iloc[:200]\n",
    "top_200_pozos_r1\n",
    "\n"
   ]
  },
  {
   "cell_type": "code",
   "execution_count": 30,
   "metadata": {},
   "outputs": [
    {
     "data": {
      "text/html": [
       "<div>\n",
       "<style scoped>\n",
       "    .dataframe tbody tr th:only-of-type {\n",
       "        vertical-align: middle;\n",
       "    }\n",
       "\n",
       "    .dataframe tbody tr th {\n",
       "        vertical-align: top;\n",
       "    }\n",
       "\n",
       "    .dataframe thead th {\n",
       "        text-align: right;\n",
       "    }\n",
       "</style>\n",
       "<table border=\"1\" class=\"dataframe\">\n",
       "  <thead>\n",
       "    <tr style=\"text-align: right;\">\n",
       "      <th></th>\n",
       "      <th>predicciones</th>\n",
       "      <th>respuestas_correctas</th>\n",
       "    </tr>\n",
       "  </thead>\n",
       "  <tbody>\n",
       "    <tr>\n",
       "      <th>9635</th>\n",
       "      <td>139.895597</td>\n",
       "      <td>137.945408</td>\n",
       "    </tr>\n",
       "    <tr>\n",
       "      <th>6753</th>\n",
       "      <td>139.662139</td>\n",
       "      <td>137.945408</td>\n",
       "    </tr>\n",
       "    <tr>\n",
       "      <th>18149</th>\n",
       "      <td>139.550920</td>\n",
       "      <td>137.945408</td>\n",
       "    </tr>\n",
       "    <tr>\n",
       "      <th>15615</th>\n",
       "      <td>139.466759</td>\n",
       "      <td>137.945408</td>\n",
       "    </tr>\n",
       "    <tr>\n",
       "      <th>14508</th>\n",
       "      <td>139.379047</td>\n",
       "      <td>137.945408</td>\n",
       "    </tr>\n",
       "    <tr>\n",
       "      <th>...</th>\n",
       "      <td>...</td>\n",
       "      <td>...</td>\n",
       "    </tr>\n",
       "    <tr>\n",
       "      <th>17881</th>\n",
       "      <td>138.368938</td>\n",
       "      <td>137.945408</td>\n",
       "    </tr>\n",
       "    <tr>\n",
       "      <th>15337</th>\n",
       "      <td>138.368859</td>\n",
       "      <td>137.945408</td>\n",
       "    </tr>\n",
       "    <tr>\n",
       "      <th>9475</th>\n",
       "      <td>138.368084</td>\n",
       "      <td>137.945408</td>\n",
       "    </tr>\n",
       "    <tr>\n",
       "      <th>20752</th>\n",
       "      <td>138.362241</td>\n",
       "      <td>137.945408</td>\n",
       "    </tr>\n",
       "    <tr>\n",
       "      <th>8559</th>\n",
       "      <td>138.362094</td>\n",
       "      <td>137.945408</td>\n",
       "    </tr>\n",
       "  </tbody>\n",
       "</table>\n",
       "<p>200 rows × 2 columns</p>\n",
       "</div>"
      ],
      "text/plain": [
       "       predicciones  respuestas_correctas\n",
       "9635     139.895597            137.945408\n",
       "6753     139.662139            137.945408\n",
       "18149    139.550920            137.945408\n",
       "15615    139.466759            137.945408\n",
       "14508    139.379047            137.945408\n",
       "...             ...                   ...\n",
       "17881    138.368938            137.945408\n",
       "15337    138.368859            137.945408\n",
       "9475     138.368084            137.945408\n",
       "20752    138.362241            137.945408\n",
       "8559     138.362094            137.945408\n",
       "\n",
       "[200 rows x 2 columns]"
      ]
     },
     "execution_count": 30,
     "metadata": {},
     "output_type": "execute_result"
    }
   ],
   "source": [
    "#Ordenar las predicciones en la region 2\n",
    "top_200_pozos_r2 = resultados2.sort_values(by='predicciones', ascending=False)\n",
    "top_200_pozos_r2 = top_200_pozos_r2.iloc[:200]\n",
    "top_200_pozos_r2"
   ]
  },
  {
   "cell_type": "code",
   "execution_count": 31,
   "metadata": {},
   "outputs": [
    {
     "data": {
      "text/html": [
       "<div>\n",
       "<style scoped>\n",
       "    .dataframe tbody tr th:only-of-type {\n",
       "        vertical-align: middle;\n",
       "    }\n",
       "\n",
       "    .dataframe tbody tr th {\n",
       "        vertical-align: top;\n",
       "    }\n",
       "\n",
       "    .dataframe thead th {\n",
       "        text-align: right;\n",
       "    }\n",
       "</style>\n",
       "<table border=\"1\" class=\"dataframe\">\n",
       "  <thead>\n",
       "    <tr style=\"text-align: right;\">\n",
       "      <th></th>\n",
       "      <th>predicciones</th>\n",
       "      <th>respuestas_correctas</th>\n",
       "    </tr>\n",
       "  </thead>\n",
       "  <tbody>\n",
       "    <tr>\n",
       "      <th>9812</th>\n",
       "      <td>173.995419</td>\n",
       "      <td>152.294162</td>\n",
       "    </tr>\n",
       "    <tr>\n",
       "      <th>13939</th>\n",
       "      <td>171.590606</td>\n",
       "      <td>139.562959</td>\n",
       "    </tr>\n",
       "    <tr>\n",
       "      <th>11867</th>\n",
       "      <td>166.007074</td>\n",
       "      <td>131.627481</td>\n",
       "    </tr>\n",
       "    <tr>\n",
       "      <th>9697</th>\n",
       "      <td>164.582479</td>\n",
       "      <td>97.775979</td>\n",
       "    </tr>\n",
       "    <tr>\n",
       "      <th>13811</th>\n",
       "      <td>164.061527</td>\n",
       "      <td>125.535602</td>\n",
       "    </tr>\n",
       "    <tr>\n",
       "      <th>...</th>\n",
       "      <td>...</td>\n",
       "      <td>...</td>\n",
       "    </tr>\n",
       "    <tr>\n",
       "      <th>5528</th>\n",
       "      <td>143.007042</td>\n",
       "      <td>140.560911</td>\n",
       "    </tr>\n",
       "    <tr>\n",
       "      <th>16087</th>\n",
       "      <td>142.987208</td>\n",
       "      <td>165.714444</td>\n",
       "    </tr>\n",
       "    <tr>\n",
       "      <th>9214</th>\n",
       "      <td>142.909578</td>\n",
       "      <td>177.344843</td>\n",
       "    </tr>\n",
       "    <tr>\n",
       "      <th>13763</th>\n",
       "      <td>142.846196</td>\n",
       "      <td>136.914899</td>\n",
       "    </tr>\n",
       "    <tr>\n",
       "      <th>16455</th>\n",
       "      <td>142.812437</td>\n",
       "      <td>89.492500</td>\n",
       "    </tr>\n",
       "  </tbody>\n",
       "</table>\n",
       "<p>200 rows × 2 columns</p>\n",
       "</div>"
      ],
      "text/plain": [
       "       predicciones  respuestas_correctas\n",
       "9812     173.995419            152.294162\n",
       "13939    171.590606            139.562959\n",
       "11867    166.007074            131.627481\n",
       "9697     164.582479             97.775979\n",
       "13811    164.061527            125.535602\n",
       "...             ...                   ...\n",
       "5528     143.007042            140.560911\n",
       "16087    142.987208            165.714444\n",
       "9214     142.909578            177.344843\n",
       "13763    142.846196            136.914899\n",
       "16455    142.812437             89.492500\n",
       "\n",
       "[200 rows x 2 columns]"
      ]
     },
     "execution_count": 31,
     "metadata": {},
     "output_type": "execute_result"
    }
   ],
   "source": [
    "#Ordenar las predicciones en la region 1\n",
    "top_200_pozos_r3 = resultados3.sort_values(by='predicciones', ascending=False)\n",
    "top_200_pozos_r3 = top_200_pozos_r3.iloc[:200]\n",
    "top_200_pozos_r3"
   ]
  },
  {
   "cell_type": "markdown",
   "metadata": {},
   "source": [
    "Para obtener los 200 pozos con los valores de predicción mas altos, ordenamos en forma descendente los valores de la columna 'predicciones' mas altos y los guardamos en las variables de top_200_pozos en cada una de las 3 regiones."
   ]
  },
  {
   "cell_type": "markdown",
   "metadata": {},
   "source": [
    "### Resumir el volumen objetivo de reservas de dichas predicciones"
   ]
  },
  {
   "cell_type": "code",
   "execution_count": 32,
   "metadata": {},
   "outputs": [
    {
     "name": "stdout",
     "output_type": "stream",
     "text": [
      "Volumen objetivo de reservas de dichas predicciones en la región 1 = 133135684.39095855\n"
     ]
    }
   ],
   "source": [
    "#Encontrar el volumen objetivo en la region 1 \n",
    "respuestas_correctas_r1 = top_200_pozos_r1['respuestas_correctas']\n",
    "respuestas_correctas_r1.sum()\n",
    "volumen_region1 = respuestas_correctas_r1 * unidad_barril  \n",
    "print('Volumen objetivo de reservas de dichas predicciones en la región 1 =', volumen_region1.sum())"
   ]
  },
  {
   "cell_type": "code",
   "execution_count": 33,
   "metadata": {},
   "outputs": [
    {
     "name": "stdout",
     "output_type": "stream",
     "text": [
      "Volumen objetivo de reservas de dichas predicciones en la región 2 = 124150866.96681508\n"
     ]
    }
   ],
   "source": [
    "#Encontrar el volumen objetivo en la region 2\n",
    "respuestas_correctas_r2 = top_200_pozos_r2['respuestas_correctas']\n",
    "respuestas_correctas_r2.sum()\n",
    "volumen_region2 = respuestas_correctas_r2 * unidad_barril  \n",
    "print('Volumen objetivo de reservas de dichas predicciones en la región 2 =', volumen_region2.sum())"
   ]
  },
  {
   "cell_type": "code",
   "execution_count": 34,
   "metadata": {},
   "outputs": [
    {
     "name": "stdout",
     "output_type": "stream",
     "text": [
      "Volumen objetivo de reservas de dichas predicciones en la región 3 = 125311974.97581083\n"
     ]
    }
   ],
   "source": [
    "#Encontrar el volumen objetivo en la region 3\n",
    "respuestas_correctas_r3 = top_200_pozos_r3['respuestas_correctas']\n",
    "respuestas_correctas_r3.sum()\n",
    "volumen_region3 = respuestas_correctas_r3 * unidad_barril  \n",
    "print('Volumen objetivo de reservas de dichas predicciones en la región 3 =', volumen_region3.sum())"
   ]
  },
  {
   "cell_type": "markdown",
   "metadata": {},
   "source": [
    "Encontramos el volumen objetivo de reservas de las predicciones en cada región sumando el total de los 200 pozos mas altos y multiplicando la suma por unidad de barril, siendo la region 1 con el valor mas alto de 133135684.39095855"
   ]
  },
  {
   "cell_type": "markdown",
   "metadata": {},
   "source": [
    "### Calcular la ganancia potencial de los 200 pozos principales"
   ]
  },
  {
   "cell_type": "code",
   "execution_count": 35,
   "metadata": {},
   "outputs": [
    {
     "name": "stdout",
     "output_type": "stream",
     "text": [
      "Ganancia potencial de los 200 pozos principales en la región 1 = 33135684.390958548\n"
     ]
    }
   ],
   "source": [
    "#Ganancia potencial en la region 1\n",
    "ganancia_r1 = volumen_region1.sum() - presupuesto\n",
    "print('Ganancia potencial de los 200 pozos principales en la región 1 =', ganancia_r1)"
   ]
  },
  {
   "cell_type": "code",
   "execution_count": 36,
   "metadata": {},
   "outputs": [
    {
     "name": "stdout",
     "output_type": "stream",
     "text": [
      "Ganancia potencial de los 200 pozos principales en la región 2 = 24150866.966815084\n"
     ]
    }
   ],
   "source": [
    "#Ganancia potencial en la region 2\n",
    "ganancia_r2 = volumen_region2.sum() - presupuesto\n",
    "print('Ganancia potencial de los 200 pozos principales en la región 2 =', ganancia_r2)"
   ]
  },
  {
   "cell_type": "code",
   "execution_count": 37,
   "metadata": {},
   "outputs": [
    {
     "name": "stdout",
     "output_type": "stream",
     "text": [
      "Ganancia potencial de los 200 pozos principales en la región 3 = 25311974.975810826\n"
     ]
    }
   ],
   "source": [
    "#Ganancia potencial en la region 3\n",
    "ganancia_r3 = volumen_region3.sum() - presupuesto\n",
    "print('Ganancia potencial de los 200 pozos principales en la región 3 =', ganancia_r3)"
   ]
  },
  {
   "cell_type": "markdown",
   "metadata": {},
   "source": [
    "Calculamos la ganancia potencial en cada region, obteniendo la región 1 con mayor ganancia con 33135684.390958548, le sigue la región 3 con 25311974.975810826, y al ultimo la región 2 con 24150866.966815084"
   ]
  },
  {
   "cell_type": "markdown",
   "metadata": {},
   "source": [
    "### Función para calcular ganancia portencial en las 3 regiones"
   ]
  },
  {
   "cell_type": "code",
   "execution_count": 38,
   "metadata": {},
   "outputs": [
    {
     "name": "stdout",
     "output_type": "stream",
     "text": [
      "Ganancia region = 33135684.390958548\n",
      "Ganancia region = 24150866.966815114\n",
      "Ganancia region = 25311974.975810826\n"
     ]
    }
   ],
   "source": [
    "#Funcion ganancia\n",
    "def ganancia_regiones(data):\n",
    "    \n",
    "    top_200_pozos = data.sort_values(by='predicciones', ascending=False)\n",
    "    top_200_pozos = top_200_pozos.iloc[:200]\n",
    "    \n",
    "    respuestas_correctas = top_200_pozos['respuestas_correctas']\n",
    "    respuestas_correctas.sum()\n",
    "    volumen_region = respuestas_correctas.sum() * unidad_barril\n",
    "    \n",
    "    ganancia = volumen_region - presupuesto\n",
    "    \n",
    "    print(\"Ganancia region =\", ganancia)\n",
    "    \n",
    "    return ganancia\n",
    "\n",
    "ganancia_region_1 = ganancia_regiones(resultados_region_1)\n",
    "ganancia_region_2 = ganancia_regiones(resultados_region_2)\n",
    "ganancia_region_3 = ganancia_regiones(resultados_region_3)"
   ]
  },
  {
   "cell_type": "markdown",
   "metadata": {},
   "source": [
    "Creamos la funcion ganancia_regiones para calcular la ganancia en las 3 regiones en un solo paso, para simplificar el codigo."
   ]
  },
  {
   "cell_type": "markdown",
   "metadata": {},
   "source": [
    "## Calcula Riesgos y ganancias de cada región"
   ]
  },
  {
   "cell_type": "markdown",
   "metadata": {},
   "source": [
    "### Emplear la tecnica de Bootstrapping con 1000 muestras para hallar la distribución de los beneficios"
   ]
  },
  {
   "cell_type": "code",
   "execution_count": 39,
   "metadata": {},
   "outputs": [],
   "source": [
    "#Aplicar tencica Bootstrapping en la region 1\n",
    "beneficios_region1 =[]\n",
    "\n",
    "for i in range(1000):\n",
    "    muestra_region1 = resultados1.sample(n=500, replace=True)\n",
    "    beneficios_region1.append(muestra_region1)\n",
    "    "
   ]
  },
  {
   "cell_type": "code",
   "execution_count": 40,
   "metadata": {},
   "outputs": [],
   "source": [
    "#Aplicar tencica Bootstrapping en la region 2\n",
    "beneficios_region2 =[]\n",
    "\n",
    "for i in range(1000):\n",
    "    muestra_region2 = resultados2.sample(n=500, replace=True)\n",
    "    beneficios_region2.append(muestra_region2)"
   ]
  },
  {
   "cell_type": "code",
   "execution_count": 41,
   "metadata": {},
   "outputs": [],
   "source": [
    "#Aplicar tencica Bootstrapping en la region 3\n",
    "beneficios_region3 =[]\n",
    "\n",
    "for i in range(1000):\n",
    "    muestra_region3 = resultados3.sample(n=500, replace=True)\n",
    "    beneficios_region3.append(muestra_region3)"
   ]
  },
  {
   "cell_type": "code",
   "execution_count": 42,
   "metadata": {},
   "outputs": [],
   "source": [
    "#Función para calcular el beneficio y hallar la distribución de cada region.\n",
    "def calcular_beneficio(data):\n",
    "    top_200_pozos = data.sort_values(by='predicciones', ascending=False)\n",
    "    top_200_pozos = top_200_pozos.iloc[:200]\n",
    "    \n",
    "    respuestas_correctas = top_200_pozos['respuestas_correctas']\n",
    "    volumen_region = respuestas_correctas.sum() * unidad_barril\n",
    "    \n",
    "    calculo_beneficio = volumen_region - presupuesto\n",
    "    \n",
    "    return calculo_beneficio"
   ]
  },
  {
   "cell_type": "code",
   "execution_count": 49,
   "metadata": {},
   "outputs": [
    {
     "data": {
      "text/plain": [
       "0      6.116924e+06\n",
       "1      5.375016e+06\n",
       "2     -6.142305e+05\n",
       "3      4.390339e+06\n",
       "4      2.458961e+06\n",
       "           ...     \n",
       "995    7.608537e+06\n",
       "996    5.331855e+06\n",
       "997    3.648286e+06\n",
       "998    6.181332e+06\n",
       "999    4.351970e+06\n",
       "Length: 1000, dtype: float64"
      ]
     },
     "execution_count": 49,
     "metadata": {},
     "output_type": "execute_result"
    }
   ],
   "source": [
    "# Calcular beneficio para cada submuestra y almacenar la distribucion de los beneficios en la región 1\n",
    "calculo_beneficios_region1 = pd.Series([calcular_beneficio(submuestra) for submuestra in beneficios_region1])\n",
    "calculo_beneficios_region1\n"
   ]
  },
  {
   "cell_type": "code",
   "execution_count": 50,
   "metadata": {},
   "outputs": [
    {
     "data": {
      "text/plain": [
       "0      4.998294e+06\n",
       "1      4.577201e+06\n",
       "2      8.851574e+06\n",
       "3      1.202861e+06\n",
       "4      5.904546e+06\n",
       "           ...     \n",
       "995    5.440535e+06\n",
       "996    3.600042e+06\n",
       "997    2.522741e+06\n",
       "998    1.816151e+06\n",
       "999    5.739716e+06\n",
       "Length: 1000, dtype: float64"
      ]
     },
     "execution_count": 50,
     "metadata": {},
     "output_type": "execute_result"
    }
   ],
   "source": [
    "# Calcular beneficio para cada submuestra y almacenar la distribucion de los beneficios en la región 2\n",
    "calculo_beneficios_region2 = pd.Series([calcular_beneficio(submuestra) for submuestra in beneficios_region2])\n",
    "calculo_beneficios_region2"
   ]
  },
  {
   "cell_type": "code",
   "execution_count": 51,
   "metadata": {
    "scrolled": true
   },
   "outputs": [
    {
     "data": {
      "text/plain": [
       "0      4.728955e+06\n",
       "1      6.854608e+06\n",
       "2      5.784844e+06\n",
       "3      3.971913e+06\n",
       "4      5.858295e+06\n",
       "           ...     \n",
       "995    5.287002e+06\n",
       "996    5.763765e+06\n",
       "997    4.683416e+06\n",
       "998    5.403784e+06\n",
       "999    4.370819e+06\n",
       "Length: 1000, dtype: float64"
      ]
     },
     "execution_count": 51,
     "metadata": {},
     "output_type": "execute_result"
    }
   ],
   "source": [
    "# Calcular beneficio para cada submuestra y almacenar la distribucion de los beneficios en la región 3\n",
    "calculo_beneficios_region3 = pd.Series([calcular_beneficio(submuestra) for submuestra in beneficios_region3])\n",
    "calculo_beneficios_region3"
   ]
  },
  {
   "cell_type": "markdown",
   "metadata": {},
   "source": [
    "Se trabajo con el DataFrame de cada región que contenia las predicciones y respuestas correctas, utilizando la tecnica de Bootstrapping creamos un muestreo estadistico utilizando 500 elementos de nuestros DataFrame para formar una submuestra y calculamos el beneficio de nuestra muestra resultante, iterando 1000 veces para encontar la distribucion de los beneficios."
   ]
  },
  {
   "cell_type": "markdown",
   "metadata": {},
   "source": [
    "### Encontrar el beneficio promedio, el intervalo de confianza del 95% y el riesgo de perdidas"
   ]
  },
  {
   "cell_type": "code",
   "execution_count": 46,
   "metadata": {},
   "outputs": [
    {
     "name": "stdout",
     "output_type": "stream",
     "text": [
      "Beneficio Promedio en la Región 1 = 4146669.604236317\n",
      "Intervalo de Confianza al 95% en la Región 1 = (2.5) -1021181.3308986183 - (97.5) 8947153.766743207\n",
      "Riesgo de Pérdida en la Región 1: 6.0 %\n"
     ]
    }
   ],
   "source": [
    "#Calcular la media de los beneficios en la región 1\n",
    "media_beneficios1 = np.mean(calculo_beneficios_region1)\n",
    "\n",
    "#Calcular los intervalos de confianza al 95% en la región 1\n",
    "cuartil_2_5_1 = calculo_beneficios_region1.quantile(0.025)\n",
    "cuartil_97_5_1 = calculo_beneficios_region1.quantile(0.975)\n",
    "\n",
    "#Calcular la probabilidad de pérdida (beneficio negativo) en la region 1\n",
    "probabilidad_perdida1 = np.mean(np.array(calculo_beneficios_region1) < 0)\n",
    "porcentaje_perdida1 = probabilidad_perdida1 * 100\n",
    "\n",
    "#Imprimir resultados\n",
    "print(\"Beneficio Promedio en la Región 1 =\", media_beneficios1)\n",
    "print(\"Intervalo de Confianza al 95% en la Región 1 = (2.5)\", cuartil_2_5_1, \"- (97.5)\", cuartil_97_5_1)\n",
    "print(\"Riesgo de Pérdida en la Región 1:\", porcentaje_perdida1, \"%\")"
   ]
  },
  {
   "cell_type": "code",
   "execution_count": 47,
   "metadata": {},
   "outputs": [
    {
     "name": "stdout",
     "output_type": "stream",
     "text": [
      "Beneficio Promedio en la Región 2 = 4462830.285733135\n",
      "Intervalo de Confianza al 95% en la Región 2 = (2.5) 260362.00280298182 - (97.5) 8380627.970288682\n",
      "Riesgo de Pérdida en la Región 2: 1.5 %\n"
     ]
    }
   ],
   "source": [
    "#Calcular la media de los beneficios en la región 2\n",
    "media_beneficios2 = np.mean(calculo_beneficios_region2)\n",
    "\n",
    "#Calcular los intervalos de confianza al 95% en la región 2\n",
    "cuartil_2_5_2 = calculo_beneficios_region2.quantile(0.025)\n",
    "cuartil_97_5_2 = calculo_beneficios_region2.quantile(0.975)\n",
    "\n",
    "#Calcular la probabilidad de pérdida (beneficio negativo) en la region 2\n",
    "probabilidad_perdida2 = np.mean(np.array(calculo_beneficios_region2) < 0)\n",
    "porcentaje_perdida2 = probabilidad_perdida2 * 100\n",
    "\n",
    "#Imprimir resultados\n",
    "print(\"Beneficio Promedio en la Región 2 =\", media_beneficios2)\n",
    "print(\"Intervalo de Confianza al 95% en la Región 2 = (2.5)\", cuartil_2_5_2, \"- (97.5)\", cuartil_97_5_2)\n",
    "print(\"Riesgo de Pérdida en la Región 2:\", porcentaje_perdida2, \"%\")"
   ]
  },
  {
   "cell_type": "code",
   "execution_count": 48,
   "metadata": {},
   "outputs": [
    {
     "name": "stdout",
     "output_type": "stream",
     "text": [
      "Beneficio Promedio en la Región 3 = 3684550.817087282\n",
      "Intervalo de Confianza al 95% en la Región 3 = (2.5) -1363089.6200280425 - (97.5) 8898318.34748069\n",
      "Riesgo de Pérdida en la Región 3: 7.000000000000001 %\n"
     ]
    }
   ],
   "source": [
    "#Calcular la media de los beneficios en la región 3\n",
    "media_beneficios3 = np.mean(calculo_beneficios_region3)\n",
    "\n",
    "#Calcular los intervalos de confianza al 95% en la región 3\n",
    "cuartil_2_5_3 = calculo_beneficios_region3.quantile(0.025)\n",
    "cuartil_97_5_3 = calculo_beneficios_region3.quantile(0.975)\n",
    "\n",
    "#Calcular la probabilidad de pérdida (beneficio negativo) en la region 3\n",
    "probabilidad_perdida3 = np.mean(np.array(calculo_beneficios_region3) < 0)\n",
    "porcentaje_perdida3 = probabilidad_perdida3 * 100\n",
    "\n",
    "#Imprimir resultados\n",
    "print(\"Beneficio Promedio en la Región 3 =\", media_beneficios3)\n",
    "print(\"Intervalo de Confianza al 95% en la Región 3 = (2.5)\", cuartil_2_5_3, \"- (97.5)\", cuartil_97_5_3)\n",
    "print(\"Riesgo de Pérdida en la Región 3:\", porcentaje_perdida3, \"%\")"
   ]
  },
  {
   "cell_type": "markdown",
   "metadata": {},
   "source": [
    "Encontramos el beneficio promedio y el resgo de perdidas con un intervalo de confianza del 95%, la perdida de ganancia la calculamos como una probabilidad y la expresamos como porcentaje."
   ]
  },
  {
   "cell_type": "markdown",
   "metadata": {},
   "source": [
    "### Conclusiones"
   ]
  },
  {
   "cell_type": "markdown",
   "metadata": {},
   "source": [
    "De acuerdo al analisis que se hizo, la lista con ganancias potenciales de los 200 pozos con los valores de predicción mas altos es la siguiente:\n",
    "- Ganancia region 1 = 33135684.390958548\n",
    "- Ganancia region 2 = 24150866.966815114\n",
    "- Ganancia region 3 = 25311974.975810826\n",
    "\n",
    "Se hizo un análisis mas profundo de los datos en las 3 regiones con la técnica estadística de remuestreo Bootstrapping creando un muestreo estadistico utilizando 500 elementos de forma aleatoria de nuestros datos para formar 1 submuestra y a su vez iterarla en 1000 ocasiones para calcular el beneficio promedio, utilizando un intervalo de confianza del 95% y el porcentaje de riego de perdidaobteniendo la siguiente lista:\n",
    "- Región 1:\n",
    "- Beneficio Promedio = 4146669.604236317\n",
    "- Intervalo de Confianza al 95% = (2.5) -1021181.3308986183 - (97.5) 8947153.766743207\n",
    "- Riesgo de Pérdida: 6.0 %\n",
    "\n",
    "- Región 2\n",
    "- Beneficio Promedio = 4462830.285733135\n",
    "- Intervalo de Confianza al 95% = (2.5) 260362.00280298182 - (97.5) 8380627.970288682\n",
    "- Riesgo de Pérdida: 1.5 %\n",
    "\n",
    "- Región 3\n",
    "- Beneficio Promedio = 3684550.817087282\n",
    "- Intervalo de Confianza al 95% = (2.5) -1363089.6200280425 - (97.5) 8898318.34748069\n",
    "- Riesgo de Pérdida: 7.000000000000001 %\n",
    "\n",
    "De acuerdo al analisis de datos se propone que la región 2 es la mas adecuada para el desarrollo de pozos petroliferos ya que tiene una ganancia de 4462830.285733135 que es mayor con respecto a las otra 2 regiones y el riesgo de perdida es mucho menor con tan solo el 1.5%. Tambien observamos que en el intervalo de confianza del 95%  en la parte inferior del intervalo no presenta numero negativo. "
   ]
  },
  {
   "cell_type": "markdown",
   "metadata": {},
   "source": [
    "<div class=\"alert alert-block alert-success\">\n",
    "\n",
    "# Comentarios generales\n",
    "<b>Comentario del revisor</b> <a class=\"tocSkip\"></a>\n",
    "    \n",
    "Todo corregido. Has aprobado un nuevo proyecto. ¡Felicitaciones!\n",
    "</div>"
   ]
  }
 ],
 "metadata": {
  "kernelspec": {
   "display_name": "Python 3 (ipykernel)",
   "language": "python",
   "name": "python3"
  },
  "language_info": {
   "codemirror_mode": {
    "name": "ipython",
    "version": 3
   },
   "file_extension": ".py",
   "mimetype": "text/x-python",
   "name": "python",
   "nbconvert_exporter": "python",
   "pygments_lexer": "ipython3",
   "version": "3.9.19"
  },
  "toc": {
   "base_numbering": 1,
   "nav_menu": {},
   "number_sections": true,
   "sideBar": true,
   "skip_h1_title": true,
   "title_cell": "Table of Contents",
   "title_sidebar": "Contents",
   "toc_cell": false,
   "toc_position": {},
   "toc_section_display": true,
   "toc_window_display": false
  }
 },
 "nbformat": 4,
 "nbformat_minor": 2
}
